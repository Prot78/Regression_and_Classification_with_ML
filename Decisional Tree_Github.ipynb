{
 "cells": [
  {
   "cell_type": "code",
   "execution_count": 2,
   "id": "0beb9bdd",
   "metadata": {},
   "outputs": [],
   "source": [
    "### Easiest binary classification algorithm\n",
    "import numpy as np\n",
    "import pandas as pd\n",
    "import seaborn as sns\n",
    "from sklearn.preprocessing import LabelEncoder, OneHotEncoder\n",
    "from sklearn.model_selection import train_test_split\n",
    "from sklearn.tree import DecisionTreeClassifier\n",
    "from sklearn import tree\n",
    "\n",
    "from sklearn.metrics import accuracy_score\n",
    "from sklearn.metrics import confusion_matrix\n",
    "from sklearn.metrics import classification_report\n",
    "\n",
    "# visual your data\n",
    "import matplotlib.pyplot as plt\n",
    "%matplotlib inline"
   ]
  },
  {
   "cell_type": "code",
   "execution_count": 3,
   "id": "e6f18112",
   "metadata": {},
   "outputs": [
    {
     "data": {
      "text/html": [
       "<div>\n",
       "<style scoped>\n",
       "    .dataframe tbody tr th:only-of-type {\n",
       "        vertical-align: middle;\n",
       "    }\n",
       "\n",
       "    .dataframe tbody tr th {\n",
       "        vertical-align: top;\n",
       "    }\n",
       "\n",
       "    .dataframe thead th {\n",
       "        text-align: right;\n",
       "    }\n",
       "</style>\n",
       "<table border=\"1\" class=\"dataframe\">\n",
       "  <thead>\n",
       "    <tr style=\"text-align: right;\">\n",
       "      <th></th>\n",
       "      <th>Initial payment</th>\n",
       "      <th>Last payment</th>\n",
       "      <th>Credit score</th>\n",
       "      <th>House number</th>\n",
       "      <th>Result</th>\n",
       "    </tr>\n",
       "  </thead>\n",
       "  <tbody>\n",
       "    <tr>\n",
       "      <th>0</th>\n",
       "      <td>201</td>\n",
       "      <td>10018</td>\n",
       "      <td>250</td>\n",
       "      <td>3046</td>\n",
       "      <td>yes</td>\n",
       "    </tr>\n",
       "    <tr>\n",
       "      <th>1</th>\n",
       "      <td>205</td>\n",
       "      <td>10016</td>\n",
       "      <td>395</td>\n",
       "      <td>3044</td>\n",
       "      <td>yes</td>\n",
       "    </tr>\n",
       "    <tr>\n",
       "      <th>2</th>\n",
       "      <td>257</td>\n",
       "      <td>10129</td>\n",
       "      <td>109</td>\n",
       "      <td>3251</td>\n",
       "      <td>yes</td>\n",
       "    </tr>\n",
       "    <tr>\n",
       "      <th>3</th>\n",
       "      <td>246</td>\n",
       "      <td>10064</td>\n",
       "      <td>324</td>\n",
       "      <td>3137</td>\n",
       "      <td>yes</td>\n",
       "    </tr>\n",
       "    <tr>\n",
       "      <th>4</th>\n",
       "      <td>117</td>\n",
       "      <td>10115</td>\n",
       "      <td>496</td>\n",
       "      <td>3094</td>\n",
       "      <td>yes</td>\n",
       "    </tr>\n",
       "  </tbody>\n",
       "</table>\n",
       "</div>"
      ],
      "text/plain": [
       "   Initial payment  Last payment  Credit score  House number Result\n",
       "0              201         10018           250          3046    yes\n",
       "1              205         10016           395          3044    yes\n",
       "2              257         10129           109          3251    yes\n",
       "3              246         10064           324          3137    yes\n",
       "4              117         10115           496          3094    yes"
      ]
     },
     "execution_count": 3,
     "metadata": {},
     "output_type": "execute_result"
    }
   ],
   "source": [
    "dataset = pd.read_csv('Decision_Tree_ Dataset.csv')\n",
    "dataset.head()"
   ]
  },
  {
   "cell_type": "code",
   "execution_count": 4,
   "id": "a5954e9f",
   "metadata": {},
   "outputs": [
    {
     "data": {
      "text/plain": [
       "Initial payment    0\n",
       "Last payment       0\n",
       "Credit score       0\n",
       "House number       0\n",
       "Result             0\n",
       "dtype: int64"
      ]
     },
     "execution_count": 4,
     "metadata": {},
     "output_type": "execute_result"
    },
    {
     "data": {
      "image/png": "[encoded data removed]",
      "text/plain": [
       "<Figure size 432x288 with 2 Axes>"
      ]
     },
     "metadata": {
      "needs_background": "light"
     },
     "output_type": "display_data"
    }
   ],
   "source": [
    "### Heat map\n",
    "sns.heatmap(dataset.corr())\n",
    "\n",
    "### This looks how many empty spaces are in the table.\n",
    "dataset.isnull().sum()"
   ]
  },
  {
   "cell_type": "code",
   "execution_count": null,
   "id": "657b7993",
   "metadata": {},
   "outputs": [],
   "source": [
    "### If there are empty spaces, run these comands\n",
    "\n",
    "dataset1=dataset[dataset.columns[2:]]   #adjust the number of columns\n",
    "\n",
    "for i in dataset1.columns :\n",
    "    dataset1[i] = dataset1[i].fillna(int(dataset1[i].mean()))\n",
    "    #print(dataset[i])\n",
    "\n",
    "dataset1.isnull().sum()"
   ]
  },
  {
   "cell_type": "code",
   "execution_count": 8,
   "id": "41e22e7b",
   "metadata": {},
   "outputs": [
    {
     "name": "stdout",
     "output_type": "stream",
     "text": [
      "(1000, 4) (1000,)\n"
     ]
    }
   ],
   "source": [
    "# Select X and y\n",
    "X = dataset.iloc[:, :-1].values\n",
    "y = dataset.iloc[:, 4].values\n",
    "\n",
    "# Transforming text to an array of number\n",
    "labelencoder = LabelEncoder()\n",
    "y = labelencoder.fit_transform(y)\n",
    "print(X.shape, y.shape)\n",
    "#print(y)"
   ]
  },
  {
   "cell_type": "code",
   "execution_count": 10,
   "id": "f24577a6",
   "metadata": {},
   "outputs": [
    {
     "data": {
      "text/plain": [
       "array([[  201, 10018,   250,  3046],\n",
       "       [  205, 10016,   395,  3044],\n",
       "       [  257, 10129,   109,  3251],\n",
       "       ...,\n",
       "       [  316, 14872,   613,  4760],\n",
       "       [  305, 14926,   897,  4572],\n",
       "       [  168, 14798,   834,  4937]])"
      ]
     },
     "execution_count": 10,
     "metadata": {},
     "output_type": "execute_result"
    }
   ],
   "source": [
    "X"
   ]
  },
  {
   "cell_type": "code",
   "execution_count": null,
   "id": "7681b246",
   "metadata": {},
   "outputs": [],
   "source": [
    "## IF needed  ()\n",
    "### NORMALIZE the data from -1 to 1\n",
    "\n",
    "print(len(X))\n",
    "print(len(X[0]))\n",
    "\n",
    "max_value= [0] * len(X[0])\n",
    "min_value= [0] * len(X[0])\n",
    "\n",
    "for i in range(0,len(X[0])):\n",
    "    max_value[i] = X[:, i].max()\n",
    "    min_value[i] = X[:, i].min()\n",
    "    print(max_value[i])\n",
    "    print(min_value[i])\n",
    "\n",
    "\n",
    "for b in range(0,len(X[0])):\n",
    "    for a in range(0,len(X)):\n",
    "        X[a, b] = (2*((X[a, b]-min_value[b])/(max_value[b]-min_value[b])))-1\n",
    "\n",
    "X"
   ]
  },
  {
   "cell_type": "code",
   "execution_count": 12,
   "id": "e1e64896",
   "metadata": {},
   "outputs": [],
   "source": [
    "### Split\n",
    "X_train, X_test, y_train, y_test = train_test_split(X, y, test_size=0.3, random_state=100)\n",
    "\n",
    "model = DecisionTreeClassifier(criterion = 'entropy', random_state = 100, max_depth=3, min_samples_leaf=5)\n",
    "model.fit(X_train, y_train)   # predictions\n",
    "\n",
    "y_pred = model.predict(X_test)\n",
    "#print(y_pred.shape)\n",
    "#print(y_test.shape)"
   ]
  },
  {
   "cell_type": "code",
   "execution_count": 13,
   "id": "6e06c52c",
   "metadata": {},
   "outputs": [
    {
     "name": "stdout",
     "output_type": "stream",
     "text": [
      "Accuracy is = 93.66666666666667\n",
      "\n",
      " Confusion matrix is = \n",
      " [[134  13]\n",
      " [  6 147]]\n",
      "\n",
      " Confusion matrix metrix is = \n",
      "               precision    recall  f1-score   support\n",
      "\n",
      "           0       0.96      0.91      0.93       147\n",
      "           1       0.92      0.96      0.94       153\n",
      "\n",
      "    accuracy                           0.94       300\n",
      "   macro avg       0.94      0.94      0.94       300\n",
      "weighted avg       0.94      0.94      0.94       300\n",
      "\n"
     ]
    }
   ],
   "source": [
    "print('Accuracy is =', accuracy_score(y_test, y_pred)*100) \n",
    "# Confusion matrix\n",
    "print('\\n Confusion matrix is = \\n', confusion_matrix(y_test, y_pred))\n",
    "# Confusion matrix metrics\n",
    "print('\\n Confusion matrix metrix is = \\n',classification_report(y_test, y_pred))"
   ]
  },
  {
   "cell_type": "code",
   "execution_count": null,
   "id": "dc6d3d93",
   "metadata": {},
   "outputs": [],
   "source": []
  }
 ],
 "metadata": {
  "kernelspec": {
   "display_name": "Python 3 (ipykernel)",
   "language": "python",
   "name": "python3"
  },
  "language_info": {
   "codemirror_mode": {
    "name": "ipython",
    "version": 3
   },
   "file_extension": ".py",
   "mimetype": "text/x-python",
   "name": "python",
   "nbconvert_exporter": "python",
   "pygments_lexer": "ipython3",
   "version": "3.9.12"
  }
 },
 "nbformat": 4,
 "nbformat_minor": 5
}
